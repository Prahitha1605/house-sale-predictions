{
 "cells": [
  {
   "cell_type": "code",
   "execution_count": 1,
   "id": "12c014b3",
   "metadata": {},
   "outputs": [],
   "source": [
    "import pandas as pd\n",
    "import numpy as np\n",
    "from sklearn.model_selection import train_test_split\n",
    "from sklearn.preprocessing import LabelEncoder"
   ]
  },
  {
   "cell_type": "code",
   "execution_count": 2,
   "id": "81d8d86c",
   "metadata": {},
   "outputs": [
    {
     "data": {
      "text/html": [
       "<div>\n",
       "<style scoped>\n",
       "    .dataframe tbody tr th:only-of-type {\n",
       "        vertical-align: middle;\n",
       "    }\n",
       "\n",
       "    .dataframe tbody tr th {\n",
       "        vertical-align: top;\n",
       "    }\n",
       "\n",
       "    .dataframe thead th {\n",
       "        text-align: right;\n",
       "    }\n",
       "</style>\n",
       "<table border=\"1\" class=\"dataframe\">\n",
       "  <thead>\n",
       "    <tr style=\"text-align: right;\">\n",
       "      <th></th>\n",
       "      <th>PRT_ID</th>\n",
       "      <th>AREA</th>\n",
       "      <th>INT_SQFT</th>\n",
       "      <th>DATE_SALE</th>\n",
       "      <th>DIST_MAINROAD</th>\n",
       "      <th>N_BEDROOM</th>\n",
       "      <th>N_BATHROOM</th>\n",
       "      <th>N_ROOM</th>\n",
       "      <th>SALE_COND</th>\n",
       "      <th>PARK_FACIL</th>\n",
       "      <th>...</th>\n",
       "      <th>UTILITY_AVAIL</th>\n",
       "      <th>STREET</th>\n",
       "      <th>MZZONE</th>\n",
       "      <th>QS_ROOMS</th>\n",
       "      <th>QS_BATHROOM</th>\n",
       "      <th>QS_BEDROOM</th>\n",
       "      <th>QS_OVERALL</th>\n",
       "      <th>REG_FEE</th>\n",
       "      <th>COMMIS</th>\n",
       "      <th>SALES_PRICE</th>\n",
       "    </tr>\n",
       "  </thead>\n",
       "  <tbody>\n",
       "    <tr>\n",
       "      <th>0</th>\n",
       "      <td>P03210</td>\n",
       "      <td>Karapakkam</td>\n",
       "      <td>1004</td>\n",
       "      <td>04-05-2011</td>\n",
       "      <td>131</td>\n",
       "      <td>1.0</td>\n",
       "      <td>1.0</td>\n",
       "      <td>3</td>\n",
       "      <td>AbNormal</td>\n",
       "      <td>Yes</td>\n",
       "      <td>...</td>\n",
       "      <td>AllPub</td>\n",
       "      <td>Paved</td>\n",
       "      <td>A</td>\n",
       "      <td>4.0</td>\n",
       "      <td>3.9</td>\n",
       "      <td>4.9</td>\n",
       "      <td>4.330</td>\n",
       "      <td>380000</td>\n",
       "      <td>144400</td>\n",
       "      <td>7600000</td>\n",
       "    </tr>\n",
       "    <tr>\n",
       "      <th>1</th>\n",
       "      <td>P09411</td>\n",
       "      <td>Anna Nagar</td>\n",
       "      <td>1986</td>\n",
       "      <td>19-12-2006</td>\n",
       "      <td>26</td>\n",
       "      <td>2.0</td>\n",
       "      <td>1.0</td>\n",
       "      <td>5</td>\n",
       "      <td>AbNormal</td>\n",
       "      <td>No</td>\n",
       "      <td>...</td>\n",
       "      <td>AllPub</td>\n",
       "      <td>Gravel</td>\n",
       "      <td>RH</td>\n",
       "      <td>4.9</td>\n",
       "      <td>4.2</td>\n",
       "      <td>2.5</td>\n",
       "      <td>3.765</td>\n",
       "      <td>760122</td>\n",
       "      <td>304049</td>\n",
       "      <td>21717770</td>\n",
       "    </tr>\n",
       "    <tr>\n",
       "      <th>2</th>\n",
       "      <td>P01812</td>\n",
       "      <td>Adyar</td>\n",
       "      <td>909</td>\n",
       "      <td>04-02-2012</td>\n",
       "      <td>70</td>\n",
       "      <td>1.0</td>\n",
       "      <td>1.0</td>\n",
       "      <td>3</td>\n",
       "      <td>AbNormal</td>\n",
       "      <td>Yes</td>\n",
       "      <td>...</td>\n",
       "      <td>ELO</td>\n",
       "      <td>Gravel</td>\n",
       "      <td>RL</td>\n",
       "      <td>4.1</td>\n",
       "      <td>3.8</td>\n",
       "      <td>2.2</td>\n",
       "      <td>3.090</td>\n",
       "      <td>421094</td>\n",
       "      <td>92114</td>\n",
       "      <td>13159200</td>\n",
       "    </tr>\n",
       "    <tr>\n",
       "      <th>3</th>\n",
       "      <td>P05346</td>\n",
       "      <td>Velachery</td>\n",
       "      <td>1855</td>\n",
       "      <td>13-03-2010</td>\n",
       "      <td>14</td>\n",
       "      <td>3.0</td>\n",
       "      <td>2.0</td>\n",
       "      <td>5</td>\n",
       "      <td>Family</td>\n",
       "      <td>No</td>\n",
       "      <td>...</td>\n",
       "      <td>NoSewr</td>\n",
       "      <td>Paved</td>\n",
       "      <td>I</td>\n",
       "      <td>4.7</td>\n",
       "      <td>3.9</td>\n",
       "      <td>3.6</td>\n",
       "      <td>4.010</td>\n",
       "      <td>356321</td>\n",
       "      <td>77042</td>\n",
       "      <td>9630290</td>\n",
       "    </tr>\n",
       "    <tr>\n",
       "      <th>4</th>\n",
       "      <td>P06210</td>\n",
       "      <td>Karapakkam</td>\n",
       "      <td>1226</td>\n",
       "      <td>05-10-2009</td>\n",
       "      <td>84</td>\n",
       "      <td>1.0</td>\n",
       "      <td>1.0</td>\n",
       "      <td>3</td>\n",
       "      <td>AbNormal</td>\n",
       "      <td>Yes</td>\n",
       "      <td>...</td>\n",
       "      <td>AllPub</td>\n",
       "      <td>Gravel</td>\n",
       "      <td>C</td>\n",
       "      <td>3.0</td>\n",
       "      <td>2.5</td>\n",
       "      <td>4.1</td>\n",
       "      <td>3.290</td>\n",
       "      <td>237000</td>\n",
       "      <td>74063</td>\n",
       "      <td>7406250</td>\n",
       "    </tr>\n",
       "  </tbody>\n",
       "</table>\n",
       "<p>5 rows × 22 columns</p>\n",
       "</div>"
      ],
      "text/plain": [
       "   PRT_ID        AREA  INT_SQFT   DATE_SALE  DIST_MAINROAD  N_BEDROOM  \\\n",
       "0  P03210  Karapakkam      1004  04-05-2011            131        1.0   \n",
       "1  P09411  Anna Nagar      1986  19-12-2006             26        2.0   \n",
       "2  P01812       Adyar       909  04-02-2012             70        1.0   \n",
       "3  P05346   Velachery      1855  13-03-2010             14        3.0   \n",
       "4  P06210  Karapakkam      1226  05-10-2009             84        1.0   \n",
       "\n",
       "   N_BATHROOM  N_ROOM SALE_COND PARK_FACIL  ... UTILITY_AVAIL  STREET MZZONE  \\\n",
       "0         1.0       3  AbNormal        Yes  ...        AllPub   Paved      A   \n",
       "1         1.0       5  AbNormal         No  ...        AllPub  Gravel     RH   \n",
       "2         1.0       3  AbNormal        Yes  ...           ELO  Gravel     RL   \n",
       "3         2.0       5    Family         No  ...       NoSewr    Paved      I   \n",
       "4         1.0       3  AbNormal        Yes  ...        AllPub  Gravel      C   \n",
       "\n",
       "  QS_ROOMS QS_BATHROOM  QS_BEDROOM  QS_OVERALL  REG_FEE  COMMIS  SALES_PRICE  \n",
       "0      4.0         3.9         4.9       4.330   380000  144400      7600000  \n",
       "1      4.9         4.2         2.5       3.765   760122  304049     21717770  \n",
       "2      4.1         3.8         2.2       3.090   421094   92114     13159200  \n",
       "3      4.7         3.9         3.6       4.010   356321   77042      9630290  \n",
       "4      3.0         2.5         4.1       3.290   237000   74063      7406250  \n",
       "\n",
       "[5 rows x 22 columns]"
      ]
     },
     "execution_count": 2,
     "metadata": {},
     "output_type": "execute_result"
    }
   ],
   "source": [
    "df = pd.read_csv(\"Chennai houseing sale.csv\")\n",
    "df.head()"
   ]
  },
  {
   "cell_type": "code",
   "execution_count": 3,
   "id": "2456d2a5",
   "metadata": {},
   "outputs": [
    {
     "data": {
      "text/plain": [
       "array(['Yes', 'No', 'Noo'], dtype=object)"
      ]
     },
     "execution_count": 3,
     "metadata": {},
     "output_type": "execute_result"
    }
   ],
   "source": [
    "df['PARK_FACIL'].unique()"
   ]
  },
  {
   "cell_type": "code",
   "execution_count": 4,
   "id": "5d554fb6",
   "metadata": {},
   "outputs": [],
   "source": [
    "park_facil_corrections = {\n",
    "    'Noo': 'No'\n",
    "}\n",
    "df['PARK_FACIL'] = df['PARK_FACIL'].replace(park_facil_corrections)"
   ]
  },
  {
   "cell_type": "code",
   "execution_count": null,
   "id": "4b213def",
   "metadata": {},
   "outputs": [],
   "source": []
  },
  {
   "cell_type": "code",
   "execution_count": 5,
   "id": "fd053605",
   "metadata": {},
   "outputs": [
    {
     "data": {
      "text/plain": [
       "array(['Yes', 'No'], dtype=object)"
      ]
     },
     "execution_count": 5,
     "metadata": {},
     "output_type": "execute_result"
    }
   ],
   "source": [
    "df['PARK_FACIL'].unique()"
   ]
  },
  {
   "cell_type": "code",
   "execution_count": 6,
   "id": "a03f65f6",
   "metadata": {},
   "outputs": [
    {
     "data": {
      "text/plain": [
       "array(['Karapakkam', 'Anna Nagar', 'Adyar', 'Velachery', 'Chrompet',\n",
       "       'KK Nagar', 'TNagar', 'T Nagar', 'Chrompt', 'Chrmpet', 'Karapakam',\n",
       "       'Ana Nagar', 'Chormpet', 'Adyr', 'Velchery', 'Ann Nagar',\n",
       "       'KKNagar'], dtype=object)"
      ]
     },
     "execution_count": 6,
     "metadata": {},
     "output_type": "execute_result"
    }
   ],
   "source": [
    "df['AREA'].unique()"
   ]
  },
  {
   "cell_type": "code",
   "execution_count": 7,
   "id": "526c6a0e",
   "metadata": {},
   "outputs": [],
   "source": [
    "area_corrections = {\n",
    "    'Karapakam': 'Karapakkam',\n",
    "    'Ana Nagar': 'Anna Nagar',\n",
    "    'Ann Nagar': 'Anna Nagar',\n",
    "    'Adyr': 'Adyar',\n",
    "    'Chrmpet': 'Chrompet',\n",
    "    'Chrompt': 'Chrompet',\n",
    "    'Chormpet': 'Chrompet',\n",
    "    'T Nagar': 'TNagar',\n",
    "    'Velchery': 'Velachery',\n",
    "    'KKNagar': 'KK Nagar'\n",
    "}\n",
    "df['AREA'] = df['AREA'].replace(area_corrections)\n"
   ]
  },
  {
   "cell_type": "code",
   "execution_count": 8,
   "id": "fc1b0876",
   "metadata": {},
   "outputs": [
    {
     "data": {
      "text/plain": [
       "array(['Karapakkam', 'Anna Nagar', 'Adyar', 'Velachery', 'Chrompet',\n",
       "       'KK Nagar', 'TNagar'], dtype=object)"
      ]
     },
     "execution_count": 8,
     "metadata": {},
     "output_type": "execute_result"
    }
   ],
   "source": [
    "df['AREA'].unique()"
   ]
  },
  {
   "cell_type": "code",
   "execution_count": 9,
   "id": "86a3964b",
   "metadata": {},
   "outputs": [
    {
     "data": {
      "text/plain": [
       "array(['AbNormal', 'Family', 'Partial', 'AdjLand', 'Normal Sale',\n",
       "       'Ab Normal', 'Partiall', 'Adj Land', 'PartiaLl'], dtype=object)"
      ]
     },
     "execution_count": 9,
     "metadata": {},
     "output_type": "execute_result"
    }
   ],
   "source": [
    "df['SALE_COND'].unique()"
   ]
  },
  {
   "cell_type": "code",
   "execution_count": 10,
   "id": "b42652fd",
   "metadata": {},
   "outputs": [],
   "source": [
    "sale_cond_corrections = {\n",
    "    'Ab Normal': 'AbNormal',\n",
    "    'Partiall': 'Partial',\n",
    "    'PartiaLl': 'Partial',\n",
    "    'Adj Land': 'AdjLand',\n",
    "    'Normal Sale': 'Normal'\n",
    "}\n",
    "df['SALE_COND'] = df['SALE_COND'].replace(sale_cond_corrections)"
   ]
  },
  {
   "cell_type": "code",
   "execution_count": 11,
   "id": "cc4d964d",
   "metadata": {},
   "outputs": [
    {
     "data": {
      "text/plain": [
       "array(['AbNormal', 'Family', 'Partial', 'AdjLand', 'Normal'], dtype=object)"
      ]
     },
     "execution_count": 11,
     "metadata": {},
     "output_type": "execute_result"
    }
   ],
   "source": [
    "df['SALE_COND'].unique()"
   ]
  },
  {
   "cell_type": "code",
   "execution_count": 12,
   "id": "0a00bfce",
   "metadata": {},
   "outputs": [
    {
     "data": {
      "text/plain": [
       "array(['Commercial', 'Others', 'Other', 'House', 'Comercial'],\n",
       "      dtype=object)"
      ]
     },
     "execution_count": 12,
     "metadata": {},
     "output_type": "execute_result"
    }
   ],
   "source": [
    "df['BUILDTYPE'].unique()"
   ]
  },
  {
   "cell_type": "code",
   "execution_count": 13,
   "id": "c4fdd83c",
   "metadata": {},
   "outputs": [],
   "source": [
    "buildtype_corrections = {\n",
    "    'Other': 'Others',\n",
    "    'Comercial': 'Commercial'\n",
    "}\n",
    "df['BUILDTYPE'] = df['BUILDTYPE'].replace(buildtype_corrections)"
   ]
  },
  {
   "cell_type": "code",
   "execution_count": 14,
   "id": "929356d6",
   "metadata": {},
   "outputs": [],
   "source": [
    "street_corrections = {\n",
    "    'Pavd': 'Paved',\n",
    "    'No Access': 'NoAccess'\n",
    "}\n",
    "df['STREET'] = df['STREET'].replace(street_corrections)"
   ]
  },
  {
   "cell_type": "code",
   "execution_count": 15,
   "id": "a0b690b4",
   "metadata": {},
   "outputs": [
    {
     "data": {
      "text/plain": [
       "array(['Paved', 'Gravel', 'NoAccess'], dtype=object)"
      ]
     },
     "execution_count": 15,
     "metadata": {},
     "output_type": "execute_result"
    }
   ],
   "source": [
    "df['STREET'].unique()"
   ]
  },
  {
   "cell_type": "code",
   "execution_count": 16,
   "id": "874c7a38",
   "metadata": {},
   "outputs": [
    {
     "data": {
      "text/plain": [
       "(7109, 22)"
      ]
     },
     "execution_count": 16,
     "metadata": {},
     "output_type": "execute_result"
    }
   ],
   "source": [
    "df.shape"
   ]
  },
  {
   "cell_type": "code",
   "execution_count": 17,
   "id": "11903760",
   "metadata": {},
   "outputs": [
    {
     "data": {
      "text/plain": [
       "Index(['PRT_ID', 'AREA', 'INT_SQFT', 'DATE_SALE', 'DIST_MAINROAD', 'N_BEDROOM',\n",
       "       'N_BATHROOM', 'N_ROOM', 'SALE_COND', 'PARK_FACIL', 'DATE_BUILD',\n",
       "       'BUILDTYPE', 'UTILITY_AVAIL', 'STREET', 'MZZONE', 'QS_ROOMS',\n",
       "       'QS_BATHROOM', 'QS_BEDROOM', 'QS_OVERALL', 'REG_FEE', 'COMMIS',\n",
       "       'SALES_PRICE'],\n",
       "      dtype='object')"
      ]
     },
     "execution_count": 17,
     "metadata": {},
     "output_type": "execute_result"
    }
   ],
   "source": [
    "df.columns"
   ]
  },
  {
   "cell_type": "code",
   "execution_count": 18,
   "id": "f39a606e",
   "metadata": {},
   "outputs": [
    {
     "name": "stdout",
     "output_type": "stream",
     "text": [
      "Correlation Matrix:\n",
      "               N_ROOM  N_BEDROOM  N_BATHROOM\n",
      "N_ROOM      1.000000   0.840286    0.568688\n",
      "N_BEDROOM   0.840286   1.000000    0.755214\n",
      "N_BATHROOM  0.568688   0.755214    1.000000\n",
      "Dropping N_ROOM due to high correlation\n"
     ]
    }
   ],
   "source": [
    "corr = df[['N_ROOM', 'N_BEDROOM', 'N_BATHROOM']].corr()\n",
    "print(\"Correlation Matrix:\\n\", corr)\n",
    "if corr['N_ROOM'].max() > 0.9:\n",
    "    print(\"Dropping N_ROOM due to high correlation\")\n",
    "    columns_to_drop = ['PRT_ID', 'REG_FEE', 'COMMIS', 'QS_OVERALL', 'DATE_SALE', 'N_ROOM','DIST_MAINROAD','UTILITY_AVAIL']\n",
    "else:\n",
    "    columns_to_drop = ['PRT_ID', 'REG_FEE', 'COMMIS', 'QS_OVERALL', 'DATE_SALE','DIST_MAINROAD','UTILITY_AVAIL']"
   ]
  },
  {
   "cell_type": "code",
   "execution_count": 19,
   "id": "8e85bc81",
   "metadata": {},
   "outputs": [],
   "source": [
    "#Engineer features\n",
    "df['SALE_YEAR'] = pd.to_datetime(df['DATE_SALE'], format='%d-%m-%Y', dayfirst=True).dt.year\n",
    "df['BUILD_YEAR'] = pd.to_datetime(df['DATE_BUILD'], format='%d-%m-%Y', dayfirst=True).dt.year\n",
    "df['PROPERTY_AGE'] = df['SALE_YEAR'] - df['BUILD_YEAR']\n",
    "area_price = df.groupby('AREA')['SALES_PRICE'].mean().rank()\n",
    "df['AREA_PRICE_LEVEL'] = df['AREA'].map(area_price)"
   ]
  },
  {
   "cell_type": "code",
   "execution_count": 20,
   "id": "74c988a6",
   "metadata": {},
   "outputs": [],
   "source": [
    "#Cap outliers\n",
    "numeric_cols = ['INT_SQFT', 'N_BEDROOM', 'N_BATHROOM', 'QS_ROOMS', 'QS_BATHROOM', 'QS_BEDROOM', 'PROPERTY_AGE', 'AREA_PRICE_LEVEL', 'SALES_PRICE']\n",
    "for col in numeric_cols:\n",
    "    p1, p99 = df[col].quantile([0.01, 0.99])\n",
    "    df[col] = df[col].clip(p1, p99)"
   ]
  },
  {
   "cell_type": "code",
   "execution_count": 21,
   "id": "b1f63654",
   "metadata": {},
   "outputs": [],
   "source": [
    "columns_to_drop.extend(['DATE_BUILD', 'SALE_YEAR', 'BUILD_YEAR'])\n",
    "df = df.drop(columns=columns_to_drop)"
   ]
  },
  {
   "cell_type": "code",
   "execution_count": 22,
   "id": "9439a091",
   "metadata": {},
   "outputs": [
    {
     "name": "stdout",
     "output_type": "stream",
     "text": [
      "          QS_ROOMS  QS_BATHROOM   QS_BEDROOM\n",
      "count  7109.000000  7109.000000  7109.000000\n",
      "mean      3.517471     3.507244     3.485300\n",
      "std       0.891972     0.897834     0.887266\n",
      "min       2.000000     2.000000     2.000000\n",
      "25%       2.700000     2.700000     2.700000\n",
      "50%       3.500000     3.500000     3.500000\n",
      "75%       4.300000     4.300000     4.300000\n",
      "max       5.000000     5.000000     5.000000\n"
     ]
    }
   ],
   "source": [
    "print(df[['QS_ROOMS', 'QS_BATHROOM', 'QS_BEDROOM']].describe())"
   ]
  },
  {
   "cell_type": "code",
   "execution_count": 23,
   "id": "7e32be29",
   "metadata": {},
   "outputs": [
    {
     "name": "stdout",
     "output_type": "stream",
     "text": [
      "              QS_ROOMS  QS_BATHROOM  QS_BEDROOM  INT_SQFT  PROPERTY_AGE\n",
      "QS_ROOMS      1.000000     0.008828    0.007789  0.019816      0.019454\n",
      "QS_BATHROOM   0.008828     1.000000   -0.011745 -0.008207      0.021889\n",
      "QS_BEDROOM    0.007789    -0.011745    1.000000  0.008842     -0.017900\n",
      "INT_SQFT      0.019816    -0.008207    0.008842  1.000000     -0.013513\n",
      "PROPERTY_AGE  0.019454     0.021889   -0.017900 -0.013513      1.000000\n"
     ]
    }
   ],
   "source": [
    "print(df[['QS_ROOMS', 'QS_BATHROOM', 'QS_BEDROOM', 'INT_SQFT', 'PROPERTY_AGE']].corr())"
   ]
  },
  {
   "cell_type": "code",
   "execution_count": 24,
   "id": "c13f95a2",
   "metadata": {},
   "outputs": [],
   "source": [
    "import pickle"
   ]
  },
  {
   "cell_type": "code",
   "execution_count": 25,
   "id": "16f4817c",
   "metadata": {},
   "outputs": [],
   "source": [
    "categorical_cols = ['AREA', 'SALE_COND', 'PARK_FACIL', 'BUILDTYPE', 'STREET', 'MZZONE']\n",
    "encoders = {}\n",
    "\n",
    "for col in categorical_cols:\n",
    "    encoders[col] = LabelEncoder()\n",
    "    df[col] = encoders[col].fit_transform(df[col])\n",
    "\n",
    "with open('label_encoders.pickle', 'wb') as file:\n",
    "    pickle.dump(encoders, file)"
   ]
  },
  {
   "cell_type": "code",
   "execution_count": 26,
   "id": "493cb34b",
   "metadata": {},
   "outputs": [
    {
     "data": {
      "text/html": [
       "<div>\n",
       "<style scoped>\n",
       "    .dataframe tbody tr th:only-of-type {\n",
       "        vertical-align: middle;\n",
       "    }\n",
       "\n",
       "    .dataframe tbody tr th {\n",
       "        vertical-align: top;\n",
       "    }\n",
       "\n",
       "    .dataframe thead th {\n",
       "        text-align: right;\n",
       "    }\n",
       "</style>\n",
       "<table border=\"1\" class=\"dataframe\">\n",
       "  <thead>\n",
       "    <tr style=\"text-align: right;\">\n",
       "      <th></th>\n",
       "      <th>AREA</th>\n",
       "      <th>INT_SQFT</th>\n",
       "      <th>N_BEDROOM</th>\n",
       "      <th>N_BATHROOM</th>\n",
       "      <th>SALE_COND</th>\n",
       "      <th>PARK_FACIL</th>\n",
       "      <th>BUILDTYPE</th>\n",
       "      <th>STREET</th>\n",
       "      <th>MZZONE</th>\n",
       "      <th>QS_ROOMS</th>\n",
       "      <th>QS_BATHROOM</th>\n",
       "      <th>QS_BEDROOM</th>\n",
       "      <th>SALES_PRICE</th>\n",
       "      <th>PROPERTY_AGE</th>\n",
       "      <th>AREA_PRICE_LEVEL</th>\n",
       "    </tr>\n",
       "  </thead>\n",
       "  <tbody>\n",
       "    <tr>\n",
       "      <th>0</th>\n",
       "      <td>4</td>\n",
       "      <td>1004.0</td>\n",
       "      <td>1.0</td>\n",
       "      <td>1.0</td>\n",
       "      <td>0</td>\n",
       "      <td>1</td>\n",
       "      <td>0</td>\n",
       "      <td>2</td>\n",
       "      <td>0</td>\n",
       "      <td>4.0</td>\n",
       "      <td>3.9</td>\n",
       "      <td>4.9</td>\n",
       "      <td>7600000.0</td>\n",
       "      <td>44</td>\n",
       "      <td>1.0</td>\n",
       "    </tr>\n",
       "    <tr>\n",
       "      <th>1</th>\n",
       "      <td>1</td>\n",
       "      <td>1986.0</td>\n",
       "      <td>2.0</td>\n",
       "      <td>1.0</td>\n",
       "      <td>0</td>\n",
       "      <td>0</td>\n",
       "      <td>0</td>\n",
       "      <td>0</td>\n",
       "      <td>3</td>\n",
       "      <td>4.9</td>\n",
       "      <td>4.2</td>\n",
       "      <td>2.5</td>\n",
       "      <td>21717770.0</td>\n",
       "      <td>11</td>\n",
       "      <td>6.0</td>\n",
       "    </tr>\n",
       "    <tr>\n",
       "      <th>2</th>\n",
       "      <td>0</td>\n",
       "      <td>909.0</td>\n",
       "      <td>1.0</td>\n",
       "      <td>1.0</td>\n",
       "      <td>0</td>\n",
       "      <td>1</td>\n",
       "      <td>0</td>\n",
       "      <td>0</td>\n",
       "      <td>4</td>\n",
       "      <td>4.1</td>\n",
       "      <td>3.8</td>\n",
       "      <td>2.2</td>\n",
       "      <td>13159200.0</td>\n",
       "      <td>20</td>\n",
       "      <td>2.0</td>\n",
       "    </tr>\n",
       "    <tr>\n",
       "      <th>3</th>\n",
       "      <td>6</td>\n",
       "      <td>1855.0</td>\n",
       "      <td>3.0</td>\n",
       "      <td>2.0</td>\n",
       "      <td>2</td>\n",
       "      <td>0</td>\n",
       "      <td>2</td>\n",
       "      <td>2</td>\n",
       "      <td>2</td>\n",
       "      <td>4.7</td>\n",
       "      <td>3.9</td>\n",
       "      <td>3.6</td>\n",
       "      <td>9630290.0</td>\n",
       "      <td>22</td>\n",
       "      <td>4.0</td>\n",
       "    </tr>\n",
       "    <tr>\n",
       "      <th>4</th>\n",
       "      <td>4</td>\n",
       "      <td>1226.0</td>\n",
       "      <td>1.0</td>\n",
       "      <td>1.0</td>\n",
       "      <td>0</td>\n",
       "      <td>1</td>\n",
       "      <td>2</td>\n",
       "      <td>0</td>\n",
       "      <td>1</td>\n",
       "      <td>3.0</td>\n",
       "      <td>2.5</td>\n",
       "      <td>4.1</td>\n",
       "      <td>7406250.0</td>\n",
       "      <td>30</td>\n",
       "      <td>1.0</td>\n",
       "    </tr>\n",
       "  </tbody>\n",
       "</table>\n",
       "</div>"
      ],
      "text/plain": [
       "   AREA  INT_SQFT  N_BEDROOM  N_BATHROOM  SALE_COND  PARK_FACIL  BUILDTYPE  \\\n",
       "0     4    1004.0        1.0         1.0          0           1          0   \n",
       "1     1    1986.0        2.0         1.0          0           0          0   \n",
       "2     0     909.0        1.0         1.0          0           1          0   \n",
       "3     6    1855.0        3.0         2.0          2           0          2   \n",
       "4     4    1226.0        1.0         1.0          0           1          2   \n",
       "\n",
       "   STREET  MZZONE  QS_ROOMS  QS_BATHROOM  QS_BEDROOM  SALES_PRICE  \\\n",
       "0       2       0       4.0          3.9         4.9    7600000.0   \n",
       "1       0       3       4.9          4.2         2.5   21717770.0   \n",
       "2       0       4       4.1          3.8         2.2   13159200.0   \n",
       "3       2       2       4.7          3.9         3.6    9630290.0   \n",
       "4       0       1       3.0          2.5         4.1    7406250.0   \n",
       "\n",
       "   PROPERTY_AGE  AREA_PRICE_LEVEL  \n",
       "0            44               1.0  \n",
       "1            11               6.0  \n",
       "2            20               2.0  \n",
       "3            22               4.0  \n",
       "4            30               1.0  "
      ]
     },
     "execution_count": 26,
     "metadata": {},
     "output_type": "execute_result"
    }
   ],
   "source": [
    "df.head()"
   ]
  },
  {
   "cell_type": "code",
   "execution_count": 27,
   "id": "88282a2b",
   "metadata": {},
   "outputs": [
    {
     "data": {
      "text/plain": [
       "AREA                0\n",
       "INT_SQFT            0\n",
       "N_BEDROOM           1\n",
       "N_BATHROOM          5\n",
       "SALE_COND           0\n",
       "PARK_FACIL          0\n",
       "BUILDTYPE           0\n",
       "STREET              0\n",
       "MZZONE              0\n",
       "QS_ROOMS            0\n",
       "QS_BATHROOM         0\n",
       "QS_BEDROOM          0\n",
       "SALES_PRICE         0\n",
       "PROPERTY_AGE        0\n",
       "AREA_PRICE_LEVEL    0\n",
       "dtype: int64"
      ]
     },
     "execution_count": 27,
     "metadata": {},
     "output_type": "execute_result"
    }
   ],
   "source": [
    "df.isnull().sum()"
   ]
  },
  {
   "cell_type": "code",
   "execution_count": 28,
   "id": "9753c315",
   "metadata": {},
   "outputs": [
    {
     "data": {
      "text/plain": [
       "(7109, 15)"
      ]
     },
     "execution_count": 28,
     "metadata": {},
     "output_type": "execute_result"
    }
   ],
   "source": [
    "df = df.fillna(df.mean())\n",
    "df.shape"
   ]
  },
  {
   "cell_type": "code",
   "execution_count": 29,
   "id": "adde84e5",
   "metadata": {},
   "outputs": [],
   "source": [
    "# In model.ipynb, before splitting data\n",
    "df['BEDROOM_SQFT_RATIO'] = df['N_BEDROOM'] / df['INT_SQFT']\n",
    "df['BATHROOM_SQFT_RATIO'] = df['N_BATHROOM'] / df['INT_SQFT']\n",
    "df['BEDROOM_SQFT_RATIO'] = df['BEDROOM_SQFT_RATIO'].clip(upper=1.0)\n",
    "df['BATHROOM_SQFT_RATIO'] = df['BATHROOM_SQFT_RATIO'].clip(upper=1.0)\n",
    "\n",
    "# Then proceed with dropping columns and splitting\n",
    "X = df.drop('SALES_PRICE', axis=1)\n",
    "y = np.log(df['SALES_PRICE'])  # Log transform"
   ]
  },
  {
   "cell_type": "code",
   "execution_count": 30,
   "id": "f3589c0e",
   "metadata": {},
   "outputs": [],
   "source": [
    "X_train, X_test, y_train, y_test = train_test_split(X, y, test_size=0.2, random_state=42)"
   ]
  },
  {
   "cell_type": "code",
   "execution_count": 31,
   "id": "4c84b120",
   "metadata": {},
   "outputs": [
    {
     "name": "stdout",
     "output_type": "stream",
     "text": [
      "Remaining Columns: ['AREA', 'INT_SQFT', 'N_BEDROOM', 'N_BATHROOM', 'SALE_COND', 'PARK_FACIL', 'BUILDTYPE', 'STREET', 'MZZONE', 'QS_ROOMS', 'QS_BATHROOM', 'QS_BEDROOM', 'PROPERTY_AGE', 'AREA_PRICE_LEVEL', 'BEDROOM_SQFT_RATIO', 'BATHROOM_SQFT_RATIO']\n"
     ]
    }
   ],
   "source": [
    "#Print remaining columns\n",
    "print(\"Remaining Columns:\", X.columns.tolist())"
   ]
  },
  {
   "cell_type": "code",
   "execution_count": 32,
   "id": "c6b194d8",
   "metadata": {},
   "outputs": [],
   "source": [
    "df.to_csv('preprocessed_housing_data.csv', index=False)"
   ]
  },
  {
   "cell_type": "code",
   "execution_count": 33,
   "id": "a15a9f88",
   "metadata": {},
   "outputs": [
    {
     "data": {
      "text/plain": [
       "0.8241117866876875"
      ]
     },
     "execution_count": 33,
     "metadata": {},
     "output_type": "execute_result"
    }
   ],
   "source": [
    "from sklearn.linear_model import LinearRegression\n",
    "lr_clf = LinearRegression()\n",
    "lr_clf.fit(X_train,y_train)\n",
    "lr_clf.score(X_test,y_test)"
   ]
  },
  {
   "cell_type": "code",
   "execution_count": 34,
   "id": "e33f6038",
   "metadata": {},
   "outputs": [
    {
     "data": {
      "text/plain": [
       "array([0.82676878, 0.8256904 , 0.83984747, 0.83660528, 0.82824595])"
      ]
     },
     "execution_count": 34,
     "metadata": {},
     "output_type": "execute_result"
    }
   ],
   "source": [
    "from sklearn.model_selection import ShuffleSplit\n",
    "from sklearn.model_selection import cross_val_score\n",
    "\n",
    "cv = ShuffleSplit(n_splits=5, test_size=0.2, random_state=0)\n",
    "\n",
    "cross_val_score(LinearRegression(), X, y, cv=cv)"
   ]
  },
  {
   "cell_type": "code",
   "execution_count": 35,
   "id": "c1f12082",
   "metadata": {},
   "outputs": [
    {
     "data": {
      "text/plain": [
       "0.9783327761448856"
      ]
     },
     "execution_count": 35,
     "metadata": {},
     "output_type": "execute_result"
    }
   ],
   "source": [
    "\n",
    "from sklearn.ensemble import RandomForestRegressor\n",
    "model = RandomForestRegressor(random_state=42)\n",
    "model.fit(X_train, y_train)\n",
    "model.score(X_test,y_test)"
   ]
  },
  {
   "cell_type": "code",
   "execution_count": 36,
   "id": "2dac6916",
   "metadata": {},
   "outputs": [],
   "source": [
    "import pickle\n",
    "with open('chennai_home_prices_model.pickle','wb') as f:\n",
    "    pickle.dump(model,f)"
   ]
  },
  {
   "cell_type": "code",
   "execution_count": null,
   "id": "88ff5cd4",
   "metadata": {},
   "outputs": [],
   "source": [
    "import json\n",
    "columns = {\n",
    "    'data_columns' : [col.lower() for col in X.columns]\n",
    "}\n",
    "with open(\"columns.json\",\"w\") as f:\n",
    "    f.write(json.dumps(columns))"
   ]
  },
  {
   "cell_type": "code",
   "execution_count": null,
   "id": "25438415",
   "metadata": {},
   "outputs": [],
   "source": []
  }
 ],
 "metadata": {
  "kernelspec": {
   "display_name": "Python 3",
   "language": "python",
   "name": "python3"
  },
  "language_info": {
   "codemirror_mode": {
    "name": "ipython",
    "version": 3
   },
   "file_extension": ".py",
   "mimetype": "text/x-python",
   "name": "python",
   "nbconvert_exporter": "python",
   "pygments_lexer": "ipython3",
   "version": "3.12.6"
  }
 },
 "nbformat": 4,
 "nbformat_minor": 5
}
